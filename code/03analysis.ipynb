{
 "cells": [
  {
   "cell_type": "markdown",
   "metadata": {},
   "source": [
    "## Data Analysis I\n",
    "\n",
    "Lastly, we will answer the following questions using pandas methods: \n",
    "\n",
    "* What are the most popular colors by season?\n",
    "* What is the most popular clothing item by season?\n",
    "* What is the effect of promo-codes on the dollar-amount of purchases?\n",
    "* When do users leave a review?\n",
    "* Do states vary in the items they purchase in the Fall?\n",
    "\n",
    "Utilize the documentation provided in each code-block. When you are done with this section of the project, validate that your output matches the screenshot provided in the `docs/part3.md` file and answer the questions located underneath `Data Analysis II` in your own words."
   ]
  },
  {
   "cell_type": "code",
   "execution_count": 104,
   "metadata": {},
   "outputs": [],
   "source": [
    "import pandas as pd\n",
    "import numpy as np\n",
    "\n",
    "import matplotlib.pyplot as plt\n",
    "import seaborn as sns\n",
    "\n",
    "from scipy import stats"
   ]
  },
  {
   "cell_type": "code",
   "execution_count": 105,
   "metadata": {},
   "outputs": [],
   "source": [
    "# TODO: load `data/processed/shopping_cleaned.csv` as a pandas dataframe\n",
    "\n",
    "df = pd.read_csv(\"/Users/ramonmora/Desktop/TKH/ShoppingBehavior/data/processed/shopping_cleaned.csv\")"
   ]
  },
  {
   "cell_type": "code",
   "execution_count": 106,
   "metadata": {},
   "outputs": [
    {
     "name": "stdout",
     "output_type": "stream",
     "text": [
      "Season                Fall  Spring  Summer  Winter\n",
      "Color                                             \n",
      "Aubergine               83       2      13     111\n",
      "Baby blue               16      69      84      21\n",
      "Black                   84       5       9     124\n",
      "Brick red               88       7      12     110\n",
      "Brown                   97       5       3      89\n",
      "Burnt orange            93       4       5     112\n",
      "Fuchsia                  3      45      78      18\n",
      "Lavender                13      55     102       6\n",
      "Lemon yellow             9      47      98      13\n",
      "Mauve                   86       5       7      95\n",
      "Muted mustard yellow    84       8      13      87\n",
      "Pale peach               9      52      81      15\n",
      "Periwinkle               9      54      82       8\n",
      "Ruby Red                90       3       8     107\n",
      "Terra cotta             91       4      15     101\n",
      "Turquoise                7      49      74      16\n",
      "White                   10      63      81      11\n"
     ]
    }
   ],
   "source": [
    "# TODO: Create a dataframe pivot table where \"Season\" is your column, \"Color\" is your index, and \"Location\" is your value (this value is arbitrary)\n",
    "# use the len function as the \"aggfunc\" parameter.\n",
    "# Save this pivot table to a new variable\n",
    "# Documentation: https://pandas.pydata.org/docs/reference/api/pandas.pivot_table.html\n",
    "\n",
    "pivot = pd.pivot_table(df, values='Location', index='Color', columns= 'Season', aggfunc= len)\n",
    "print(pivot)"
   ]
  },
  {
   "cell_type": "code",
   "execution_count": 107,
   "metadata": {},
   "outputs": [
    {
     "name": "stdout",
     "output_type": "stream",
     "text": [
      "Season                Fall  Spring  Summer  Winter\n",
      "Color                                             \n",
      "Aubergine               83       2      13     111\n",
      "Baby blue               16      69      84      21\n",
      "Black                   84       5       9     124\n",
      "Brick red               88       7      12     110\n",
      "Brown                   97       5       3      89\n",
      "Burnt orange            93       4       5     112\n",
      "Fuchsia                  3      45      78      18\n",
      "Lavender                13      55     102       6\n",
      "Lemon yellow             9      47      98      13\n",
      "Mauve                   86       5       7      95\n",
      "Muted mustard yellow    84       8      13      87\n",
      "Pale peach               9      52      81      15\n",
      "Periwinkle               9      54      82       8\n",
      "Ruby Red                90       3       8     107\n",
      "Terra cotta             91       4      15     101\n",
      "Turquoise                7      49      74      16\n",
      "White                   10      63      81      11\n"
     ]
    }
   ],
   "source": [
    "# TODO: Display this pivot table\n",
    "\n",
    "print(pivot)"
   ]
  },
  {
   "cell_type": "code",
   "execution_count": 108,
   "metadata": {},
   "outputs": [
    {
     "data": {
      "text/plain": [
       "Color\n",
       "Brown                   97\n",
       "Burnt orange            93\n",
       "Terra cotta             91\n",
       "Ruby Red                90\n",
       "Brick red               88\n",
       "Mauve                   86\n",
       "Black                   84\n",
       "Muted mustard yellow    84\n",
       "Aubergine               83\n",
       "Baby blue               16\n",
       "Lavender                13\n",
       "White                   10\n",
       "Periwinkle               9\n",
       "Pale peach               9\n",
       "Lemon yellow             9\n",
       "Turquoise                7\n",
       "Fuchsia                  3\n",
       "Name: Fall, dtype: int64"
      ]
     },
     "execution_count": 108,
     "metadata": {},
     "output_type": "execute_result"
    }
   ],
   "source": [
    "# TODO: Select the \"Fall\" column from this pivot table and display the sort order in descending order\n",
    "# Documentation: https://pandas.pydata.org/docs/reference/api/pandas.DataFrame.sort_values.html\n",
    "\n",
    "pivot[\"Fall\"].sort_values(ascending=False)"
   ]
  },
  {
   "cell_type": "code",
   "execution_count": 109,
   "metadata": {},
   "outputs": [
    {
     "data": {
      "text/plain": [
       "Color\n",
       "Black                   124\n",
       "Burnt orange            112\n",
       "Aubergine               111\n",
       "Brick red               110\n",
       "Ruby Red                107\n",
       "Terra cotta             101\n",
       "Mauve                    95\n",
       "Brown                    89\n",
       "Muted mustard yellow     87\n",
       "Baby blue                21\n",
       "Fuchsia                  18\n",
       "Turquoise                16\n",
       "Pale peach               15\n",
       "Lemon yellow             13\n",
       "White                    11\n",
       "Periwinkle                8\n",
       "Lavender                  6\n",
       "Name: Winter, dtype: int64"
      ]
     },
     "execution_count": 109,
     "metadata": {},
     "output_type": "execute_result"
    }
   ],
   "source": [
    "# TODO: Select the \"Winter\" column from this pivot table and display the sort order in descending order\n",
    "\n",
    "pivot[\"Winter\"].sort_values(ascending=False)"
   ]
  },
  {
   "cell_type": "code",
   "execution_count": 110,
   "metadata": {},
   "outputs": [
    {
     "data": {
      "text/plain": [
       "Color\n",
       "Baby blue               69\n",
       "White                   63\n",
       "Lavender                55\n",
       "Periwinkle              54\n",
       "Pale peach              52\n",
       "Turquoise               49\n",
       "Lemon yellow            47\n",
       "Fuchsia                 45\n",
       "Muted mustard yellow     8\n",
       "Brick red                7\n",
       "Mauve                    5\n",
       "Brown                    5\n",
       "Black                    5\n",
       "Burnt orange             4\n",
       "Terra cotta              4\n",
       "Ruby Red                 3\n",
       "Aubergine                2\n",
       "Name: Spring, dtype: int64"
      ]
     },
     "execution_count": 110,
     "metadata": {},
     "output_type": "execute_result"
    }
   ],
   "source": [
    "# TODO: Select the \"Spring\" column from this pivot table and display the sort order in descending order\n",
    "\n",
    "pivot[\"Spring\"].sort_values(ascending=False)"
   ]
  },
  {
   "cell_type": "code",
   "execution_count": 111,
   "metadata": {},
   "outputs": [
    {
     "data": {
      "text/plain": [
       "Color\n",
       "Lavender                102\n",
       "Lemon yellow             98\n",
       "Baby blue                84\n",
       "Periwinkle               82\n",
       "Pale peach               81\n",
       "White                    81\n",
       "Fuchsia                  78\n",
       "Turquoise                74\n",
       "Terra cotta              15\n",
       "Muted mustard yellow     13\n",
       "Aubergine                13\n",
       "Brick red                12\n",
       "Black                     9\n",
       "Ruby Red                  8\n",
       "Mauve                     7\n",
       "Burnt orange              5\n",
       "Brown                     3\n",
       "Name: Summer, dtype: int64"
      ]
     },
     "execution_count": 111,
     "metadata": {},
     "output_type": "execute_result"
    }
   ],
   "source": [
    "# TODO: Select the \"Summer\" column from this pivot table and display the sort order in descending order\n",
    "\n",
    "pivot[\"Summer\"].sort_values(ascending=False)"
   ]
  },
  {
   "cell_type": "code",
   "execution_count": 112,
   "metadata": {},
   "outputs": [
    {
     "data": {
      "text/plain": [
       "Season\n",
       "Fall          Brown\n",
       "Spring    Baby blue\n",
       "Summer     Lavender\n",
       "Winter        Black\n",
       "dtype: object"
      ]
     },
     "execution_count": 112,
     "metadata": {},
     "output_type": "execute_result"
    }
   ],
   "source": [
    "# TODO: Using the \"idmax\" method, get the index with the maximum value for each column\n",
    "# Documentation: https://pandas.pydata.org/docs/reference/api/pandas.DataFrame.idxmax.html\n",
    "\n",
    "pivot.idxmax()"
   ]
  },
  {
   "cell_type": "code",
   "execution_count": 113,
   "metadata": {},
   "outputs": [
    {
     "name": "stdout",
     "output_type": "stream",
     "text": [
      "Season          Fall  Spring  Summer  Winter\n",
      "Item Purchased                              \n",
      "Backpack        72.0     NaN     NaN   113.0\n",
      "Belt            25.0     NaN     NaN     NaN\n",
      "Boots           51.0     NaN     NaN    83.0\n",
      "Dress           36.0    74.0   118.0     NaN\n",
      "Gloves          68.0     NaN     NaN   112.0\n",
      "Handbag         31.0    78.0   111.0     NaN\n",
      "Hoodie          58.0     NaN     NaN   105.0\n",
      "Jacket          47.0     NaN     NaN    87.0\n",
      "Jeans           46.0     NaN     NaN     NaN\n",
      "Leggings        58.0     NaN     NaN   118.0\n",
      "Pajamas         65.0     NaN     NaN   111.0\n",
      "Running Shoes   25.0    89.0   134.0     NaN\n",
      "Scarf           56.0     NaN     NaN   101.0\n",
      "Shorts          31.0    76.0   152.0     NaN\n",
      "Socks           71.0     NaN     NaN   101.0\n",
      "Sunglasses      43.0    80.0   135.0     NaN\n",
      "Sweater         72.0     NaN     NaN   113.0\n",
      "T-shirt         17.0    80.0   115.0     NaN\n"
     ]
    }
   ],
   "source": [
    "# TODO: Create a dataframe pivot table where \"Season\" is your column, \"Item Purchased\" is your index, and \"Location\" is your value (this value is arbitrary)\n",
    "# use the len function as the \"aggfunc\" parameter.\n",
    "# Save this pivot table to a new variable and display it\n",
    "\n",
    "pivot2 = pd.pivot_table(df, values='Location', index='Item Purchased', columns= 'Season', aggfunc= len)\n",
    "print(pivot2)\n"
   ]
  },
  {
   "cell_type": "code",
   "execution_count": 114,
   "metadata": {},
   "outputs": [
    {
     "data": {
      "text/plain": [
       "Season\n",
       "Fall           Backpack\n",
       "Spring    Running Shoes\n",
       "Summer           Shorts\n",
       "Winter         Leggings\n",
       "dtype: object"
      ]
     },
     "execution_count": 114,
     "metadata": {},
     "output_type": "execute_result"
    }
   ],
   "source": [
    "# TODO: Using the \"idmax\" method, get the index with the maximum value for each column on the pivot table containing clothing items & season\n",
    "# Documentation: https://pandas.pydata.org/docs/reference/api/pandas.DataFrame.idxmax.html\n",
    "\n",
    "pivot2.idxmax()"
   ]
  },
  {
   "cell_type": "code",
   "execution_count": 115,
   "metadata": {},
   "outputs": [],
   "source": [
    "# TODO: Create two data-frames for promo-code users and non-promo-code users using boolean indexing\n",
    "# Save these two dataframes into seperate variables \n",
    "# Documentation: https://pandas.pydata.org/docs/user_guide/indexing.html#boolean-indexing\n",
    "# Hint: Users that have used a promo code have the value \"Yes\" in the column \"Promo Code Used\"\n",
    "promo = df[df['Promo Code Used'] == 'Yes']\n",
    "non_promo = df[df['Promo Code Used'] == 'No']\n"
   ]
  },
  {
   "cell_type": "code",
   "execution_count": 116,
   "metadata": {},
   "outputs": [
    {
     "data": {
      "text/plain": [
       "(1373, 13)"
      ]
     },
     "execution_count": 116,
     "metadata": {},
     "output_type": "execute_result"
    }
   ],
   "source": [
    "# TODO: Print the shape of the promo code users dataframe. This should be (1373, 13)\n",
    "\n",
    "promo.shape"
   ]
  },
  {
   "cell_type": "code",
   "execution_count": 117,
   "metadata": {},
   "outputs": [
    {
     "data": {
      "text/plain": [
       "50.06747998236351"
      ]
     },
     "execution_count": 117,
     "metadata": {},
     "output_type": "execute_result"
    }
   ],
   "source": [
    "# TODO: Print the average purchase size of promo code users dataframe. This should be 50.06747998236351\n",
    "promo['Purchase Amount (USD)'].mean()\n"
   ]
  },
  {
   "cell_type": "code",
   "execution_count": 118,
   "metadata": {},
   "outputs": [
    {
     "data": {
      "text/plain": [
       "(1785, 13)"
      ]
     },
     "execution_count": 118,
     "metadata": {},
     "output_type": "execute_result"
    }
   ],
   "source": [
    "# TODO: Print the shape of the non promo code users dataframe. This should be (1785, 13)\n",
    "\n",
    "non_promo.shape"
   ]
  },
  {
   "cell_type": "code",
   "execution_count": 119,
   "metadata": {},
   "outputs": [
    {
     "data": {
      "text/plain": [
       "30.155750765104113"
      ]
     },
     "execution_count": 119,
     "metadata": {},
     "output_type": "execute_result"
    }
   ],
   "source": [
    "# TODO: Print the average purchase size of non promo code users dataframe. This should be 30.155750765104113\n",
    "\n",
    "non_promo['Purchase Amount (USD)'].mean()"
   ]
  },
  {
   "cell_type": "markdown",
   "metadata": {},
   "source": [
    "Formulate a null hypothesis regarding the dollar amount spent between promo-code users & non-promo-code users"
   ]
  },
  {
   "cell_type": "markdown",
   "metadata": {},
   "source": [
    "There is no difference in spending amounts between promo-code users and non-promo-code users."
   ]
  },
  {
   "cell_type": "markdown",
   "metadata": {},
   "source": [
    "Formulate an alternative hypothesis regarding the dollar amount spent between promo-code users & non-promo-code users"
   ]
  },
  {
   "cell_type": "markdown",
   "metadata": {},
   "source": [
    "Promo-code users spend more than non-promo-code users."
   ]
  },
  {
   "cell_type": "code",
   "execution_count": 120,
   "metadata": {},
   "outputs": [
    {
     "data": {
      "text/plain": [
       "TtestResult(statistic=93.2464714350831, pvalue=0.0, df=3156.0)"
      ]
     },
     "execution_count": 120,
     "metadata": {},
     "output_type": "execute_result"
    }
   ],
   "source": [
    "# TODO: Using the \"ttest_ind\" method from \"scipy.stats\", run a T-Test between the dollar amount spent of promo-code users and non promo-code users\n",
    "# The t-statistic you should observe is 93.2464714350831\n",
    "# Documentation: https://docs.scipy.org/doc/scipy/reference/generated/scipy.stats.ttest_ind.html\n",
    "stats.ttest_ind(promo[\"Purchase Amount (USD)\"], non_promo[\"Purchase Amount (USD)\"])\n"
   ]
  },
  {
   "cell_type": "code",
   "execution_count": 134,
   "metadata": {},
   "outputs": [],
   "source": [
    "# TODO: Group your dataframe according to the \"Review Rating\" column. This should produce two groups for the values \"Missing\" & \"Present\"\n",
    "# Save this grouped dataframe into a new variable named \"g_review\"\n",
    "# Documentation: https://pandas.pydata.org/docs/reference/api/pandas.DataFrame.groupby.html\n",
    "\n",
    "g_review = df.groupby(by =[\"Review Rating\"])\n"
   ]
  },
  {
   "cell_type": "code",
   "execution_count": 122,
   "metadata": {},
   "outputs": [
    {
     "data": {
      "text/plain": [
       "dict_keys(['Missing', 'Present'])"
      ]
     },
     "execution_count": 122,
     "metadata": {},
     "output_type": "execute_result"
    }
   ],
   "source": [
    "# TODO: Print out the keys of this dataframe for validation. This should output \"dict_keys(['Missing', 'Present'])\"\n",
    "# Documentation: https://pandas.pydata.org/docs/reference/api/pandas.DataFrame.keys.html\n",
    "\n",
    "g_review.groups.keys()"
   ]
  },
  {
   "cell_type": "code",
   "execution_count": 123,
   "metadata": {},
   "outputs": [
    {
     "name": "stdout",
     "output_type": "stream",
     "text": [
      "               Purchase Amount (USD)        Age  Previous Purchases\n",
      "Review Rating                                                      \n",
      "Missing                    38.923623  34.080198            5.344059\n",
      "Present                    38.615947  34.371705            6.778559\n"
     ]
    }
   ],
   "source": [
    "# TODO: calculate the average of the \"Purchase Amount (USD)\", \"Age\", and \"Previous Purchases\" columns in our grouped dataframe\n",
    "# output the values for display\n",
    "# Documentation: https://pandas.pydata.org/docs/reference/api/pandas.DataFrame.mean.html\n",
    "# Documentation: https://pandas.pydata.org/docs/getting_started/intro_tutorials/03_subset_data.html\n",
    "\n",
    "averages = g_review[['Purchase Amount (USD)', 'Age', 'Previous Purchases']].mean()\n",
    "print(averages)"
   ]
  },
  {
   "cell_type": "code",
   "execution_count": 129,
   "metadata": {},
   "outputs": [
    {
     "data": {
      "text/plain": [
       "0        Low\n",
       "1        Low\n",
       "2        Low\n",
       "3        Low\n",
       "4        Low\n",
       "        ... \n",
       "3153    High\n",
       "3154    High\n",
       "3155    High\n",
       "3156     Low\n",
       "3157     Low\n",
       "Name: Prev Purchase Group, Length: 3158, dtype: category\n",
       "Categories (2, object): ['Low' < 'High']"
      ]
     },
     "execution_count": 129,
     "metadata": {},
     "output_type": "execute_result"
    }
   ],
   "source": [
    "# TODO: Create a new column called \"Prev Purchase Group\" on your original dataframe which seperates your dataframe into \n",
    "# two groups of shoppers based on their \"Previous Purchases\" column using the \"pd.cut\" method. \n",
    "# Ensure that you are only creating 2 \"bins\" and label these respective bins as [\"Low\", \"High\"]\n",
    "# Documentation: https://pandas.pydata.org/docs/reference/api/pandas.cut.html\n",
    "\n",
    "df[\"Prev Purchase Group\"] = pd.qcut(df[\"Previous Purchases\"], q=2, labels=[\"Low\", \"High\"]) \n",
    "df[\"Prev Purchase Group\"]\n"
   ]
  },
  {
   "cell_type": "code",
   "execution_count": 132,
   "metadata": {},
   "outputs": [
    {
     "name": "stdout",
     "output_type": "stream",
     "text": [
      "Review Rating\n",
      "Missing    1172\n",
      "Present     537\n",
      "Name: count, dtype: int64\n"
     ]
    }
   ],
   "source": [
    "# TODO: Using the \"value_counts\" function, count how many Missing & Present values are in the \"Low\" group\n",
    "# Display this value for analysis \n",
    "# Documentation: https://pandas.pydata.org/docs/reference/api/pandas.Series.value_counts.html\n",
    "# Hint: You will have to use Boolean Indexing\n",
    "\n",
    "low = df[df[\"Prev Purchase Group\"] == \"Low\"]\n",
    "count_low = low[\"Review Rating\"].value_counts()\n",
    "print(count_low)"
   ]
  },
  {
   "cell_type": "code",
   "execution_count": 133,
   "metadata": {},
   "outputs": [
    {
     "name": "stdout",
     "output_type": "stream",
     "text": [
      "Review Rating\n",
      "Missing    848\n",
      "Present    601\n",
      "Name: count, dtype: int64\n"
     ]
    }
   ],
   "source": [
    "# TODO: Using the \"value_counts\" function, count how many Missing & Present values are in the \"High\" group\n",
    "# Display this value for analysis \n",
    "# Documentation: https://pandas.pydata.org/docs/reference/api/pandas.Series.value_counts.html\n",
    "# Hint: You will have to use Boolean Indexing\n",
    "\n",
    "high = df[df[\"Prev Purchase Group\"] == \"High\"]\n",
    "count_high = high[\"Review Rating\"].value_counts()\n",
    "print(count_high)"
   ]
  },
  {
   "cell_type": "markdown",
   "metadata": {},
   "source": [
    "## Data Analysis II\n",
    "\n",
    "In the next section, answer the primary analytical questions in your own words."
   ]
  },
  {
   "cell_type": "markdown",
   "metadata": {},
   "source": [
    "### Q1\n",
    "\n",
    "What are the top three colors for Fall & Winter?"
   ]
  },
  {
   "cell_type": "markdown",
   "metadata": {},
   "source": [
    "The top three colors for Fall are Brown, Burnt Orange, and Terra Cotta. For Winter they are Black, Burnt Orange, and Aubergine."
   ]
  },
  {
   "cell_type": "markdown",
   "metadata": {},
   "source": [
    "### Q2\n",
    "\n",
    "What are the top three colors for Spring & Summer?"
   ]
  },
  {
   "cell_type": "markdown",
   "metadata": {},
   "source": [
    "The top three colors for Spring are Baby Blue, White, and Lavander. For Summer they are Lavender, Lemon Yellow, and Baby Blue."
   ]
  },
  {
   "cell_type": "markdown",
   "metadata": {},
   "source": [
    "### Q3\n",
    "\n",
    "What is the most popular clothing item by season?"
   ]
  },
  {
   "cell_type": "markdown",
   "metadata": {},
   "source": [
    "The most popular clothing items by season are Backpack for Fall, Running Shoes for Spring, Shorts for Summer, and Leggings for Winter. "
   ]
  },
  {
   "cell_type": "markdown",
   "metadata": {},
   "source": [
    "### Q4\n",
    "\n",
    "Observing the p-value that we got when running our t-test between promo-code and non-promo-code users, what can we conclude regarding our null hypothesis?"
   ]
  },
  {
   "cell_type": "markdown",
   "metadata": {},
   "source": [
    "By observing out p-value at 0.0 we would reject the null hypothesis and affirm promo-code users spend more than non-promo-code users."
   ]
  },
  {
   "cell_type": "markdown",
   "metadata": {},
   "source": [
    "### Q5\n",
    "\n",
    "Observe the `value_counts` output for the \"Review Rating\" column for both your \"High\" and \"Low\" groups. Proportionally speaking, which group is more likely to leave a review? Why might this be happening from the \"human\"-perspective? Rationalizations are ok at this point, even if they aren't backed up by data."
   ]
  },
  {
   "cell_type": "markdown",
   "metadata": {},
   "source": [
    "Based off of the output for both \"High and Low\" Review Groups, High rating reviews are more likely to leave a comment. Which makes sense because most people leave reviews because of either amazing or terrible experiences. On the high side most people love to share great experiences vs. terrible ones."
   ]
  }
 ],
 "metadata": {
  "kernelspec": {
   "display_name": "phase1",
   "language": "python",
   "name": "python3"
  },
  "language_info": {
   "codemirror_mode": {
    "name": "ipython",
    "version": 3
   },
   "file_extension": ".py",
   "mimetype": "text/x-python",
   "name": "python",
   "nbconvert_exporter": "python",
   "pygments_lexer": "ipython3",
   "version": "3.9.18"
  }
 },
 "nbformat": 4,
 "nbformat_minor": 2
}
